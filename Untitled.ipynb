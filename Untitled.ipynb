{
 "cells": [
  {
   "cell_type": "code",
   "execution_count": 11,
   "metadata": {},
   "outputs": [
    {
     "name": "stdout",
     "output_type": "stream",
     "text": [
      "2002-10-02 00:00:00 2013-02-28 00:00:00 1977-08-18 00:00:00\n"
     ]
    }
   ],
   "source": [
    "from datetime import datetime\n",
    "magazine_1 = 'Wednesday, October 2, 2002'\n",
    "magazine_2 = 'Friday, 28.02.13'\n",
    "magazine_3  = 'Thursday, 18 August 1977'\n",
    "m_1 = datetime.strptime(magazine_1, '%A, %B %d, %Y')\n",
    "m_2 = datetime.strptime(magazine_2, '%A, %d.%m.%y')\n",
    "m_3 = datetime.strptime(magazine_3, '%A, %d %B %Y')\n",
    "print(m_1, m_2, m_3)"
   ]
  },
  {
   "cell_type": "code",
   "execution_count": 19,
   "metadata": {},
   "outputs": [
    {
     "name": "stdout",
     "output_type": "stream",
     "text": [
      "[True, False, False]\n"
     ]
    }
   ],
   "source": [
    "def check_dates(stream_):\n",
    "    results = []\n",
    "    for date_str in stream_:\n",
    "        try:\n",
    "            datetime.strptime(date_str, '%Y-%m-%d')\n",
    "        except Exception:\n",
    "            results.append(False)\n",
    "        results.append(True)\n",
    "    return results\n",
    "\n",
    "stream = ['2018-04-02', '2018-02-29', '2018-19-02']\n",
    "print(check_dates(stream))\n",
    "    "
   ]
  },
  {
   "cell_type": "code",
   "execution_count": 32,
   "metadata": {},
   "outputs": [
    {
     "name": "stdout",
     "output_type": "stream",
     "text": [
      "Пустой список\n"
     ]
    }
   ],
   "source": [
    "from datetime import timedelta\n",
    "def date_range(start_date, end_date):\n",
    "    results = []\n",
    "    try:\n",
    "        date_1 = datetime.strptime(start_date, '%Y-%m-%d')\n",
    "        date_2 = datetime.strptime(end_date, '%Y-%m-%d')\n",
    "    except Exception:\n",
    "        return results\n",
    "    if date_1 > date_2:\n",
    "        return results\n",
    "    while date_1 <= date_2:\n",
    "        results.append(date_1)\n",
    "        date_1 += timedelta(days = 1)\n",
    "    return results\n",
    "    \n",
    "a = '2012-04-12'\n",
    "b = '2012-04-10'\n",
    "dt_r = date_range(a, b)\n",
    "if len(dt_r) == 0:\n",
    "    print(\"Пустой список\")\n",
    "else:\n",
    "    for dt in dt_r:\n",
    "        print(dt.strftime(\"%a\"))\n",
    "        \n",
    "    \n",
    "\n",
    "    \n",
    "    "
   ]
  },
  {
   "cell_type": "code",
   "execution_count": null,
   "metadata": {},
   "outputs": [],
   "source": []
  }
 ],
 "metadata": {
  "kernelspec": {
   "display_name": "Python 3",
   "language": "python",
   "name": "python3"
  },
  "language_info": {
   "codemirror_mode": {
    "name": "ipython",
    "version": 3
   },
   "file_extension": ".py",
   "mimetype": "text/x-python",
   "name": "python",
   "nbconvert_exporter": "python",
   "pygments_lexer": "ipython3",
   "version": "3.8.3"
  }
 },
 "nbformat": 4,
 "nbformat_minor": 4
}
